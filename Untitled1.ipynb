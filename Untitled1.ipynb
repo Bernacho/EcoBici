{
 "cells": [
  {
   "cell_type": "code",
   "execution_count": null,
   "id": "459c1a6f",
   "metadata": {},
   "outputs": [],
   "source": []
  }
 ],
 "metadata": {
  "kernelspec": {
   "display_name": "apartments",
   "language": "python",
   "name": "apartments"
  }
 },
 "nbformat": 4,
 "nbformat_minor": 5
}

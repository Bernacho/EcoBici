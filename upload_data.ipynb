{
 "cells": [
  {
   "cell_type": "markdown",
   "id": "23ce6523",
   "metadata": {},
   "source": [
    "# Upload data to GCS Storage"
   ]
  },
  {
   "cell_type": "code",
   "execution_count": 2,
   "id": "ca5bcc83",
   "metadata": {},
   "outputs": [],
   "source": [
    "import os\n",
    "os.environ['GOOGLE_APPLICATION_CREDENTIALS'] = 'gcs-key.json'"
   ]
  },
  {
   "cell_type": "code",
   "execution_count": 3,
   "id": "1d3243cb",
   "metadata": {},
   "outputs": [],
   "source": [
    "from google.cloud import storage"
   ]
  },
  {
   "cell_type": "code",
   "execution_count": 4,
   "id": "f4757c66",
   "metadata": {},
   "outputs": [],
   "source": [
    "def upload_partitioned_dataset_skip_existing(local_root, bucket_name, gcs_root):\n",
    "    client = storage.Client()\n",
    "    bucket = client.bucket(bucket_name)\n",
    "\n",
    "    for root, dirs, files in os.walk(local_root):\n",
    "        for file in files:\n",
    "            local_path = os.path.join(root, file)\n",
    "            relative_path = os.path.relpath(local_path, local_root)\n",
    "            gcs_path = os.path.join(gcs_root, relative_path).replace(\"\\\\\", \"/\")\n",
    "\n",
    "            blob = bucket.blob(gcs_path)\n",
    "\n",
    "            if blob.exists():\n",
    "                print(f\"⏩ Skipped existing file: gs://{bucket_name}/{gcs_path}\")\n",
    "            else:\n",
    "                blob.upload_from_filename(local_path)\n",
    "                print(f\"✅ Uploaded {local_path} to gs://{bucket_name}/{gcs_path}\")"
   ]
  },
  {
   "cell_type": "code",
   "execution_count": 5,
   "id": "f56d78a7",
   "metadata": {},
   "outputs": [],
   "source": [
    "import pandas as pd\n",
    "import requests"
   ]
  },
  {
   "cell_type": "code",
   "execution_count": 6,
   "id": "1eabc5aa",
   "metadata": {},
   "outputs": [],
   "source": [
    "df = pd.read_parquet(\"gs://bernacho-ecobici-datahub/partitioned_historical_data\", filters=[(\"year\",'>=',2022),(\"year\",'<=',2024)])"
   ]
  },
  {
   "cell_type": "code",
   "execution_count": 7,
   "id": "93bdd16c",
   "metadata": {},
   "outputs": [
    {
     "name": "stdout",
     "output_type": "stream",
     "text": [
      "<class 'pandas.core.frame.DataFrame'>\n",
      "RangeIndex: 39503816 entries, 0 to 39503815\n",
      "Data columns (total 15 columns):\n",
      " #   Column                 Dtype         \n",
      "---  ------                 -----         \n",
      " 0   Genero_Usuario         object        \n",
      " 1   Edad_Usuario           Int64         \n",
      " 2   Bici                   object        \n",
      " 3   Ciclo_Estacion_Retiro  object        \n",
      " 4   Fecha_Retiro           datetime64[ns]\n",
      " 5   Hora_Retiro            object        \n",
      " 6   Ciclo_Estacion_Arribo  object        \n",
      " 7   Fecha_Arribo           datetime64[ns]\n",
      " 8   Hora_Arribo            object        \n",
      " 9   date_start             datetime64[ns]\n",
      " 10  date_end               datetime64[ns]\n",
      " 11  duration               int32         \n",
      " 12  file                   object        \n",
      " 13  year                   category      \n",
      " 14  month                  category      \n",
      "dtypes: Int64(1), category(2), datetime64[ns](4), int32(1), object(7)\n",
      "memory usage: 3.8+ GB\n"
     ]
    }
   ],
   "source": [
    "df.info()"
   ]
  },
  {
   "cell_type": "code",
   "execution_count": 8,
   "id": "399edccf",
   "metadata": {},
   "outputs": [],
   "source": [
    "df['year'] = df['year'].astype(int)\n",
    "df['month'] = df['month'].astype(int)"
   ]
  },
  {
   "cell_type": "code",
   "execution_count": 9,
   "id": "95f92c60",
   "metadata": {},
   "outputs": [
    {
     "data": {
      "text/plain": [
       "year  month\n",
       "2022  1         393115\n",
       "      2         434262\n",
       "      3         557931\n",
       "      4         523923\n",
       "      5         594329\n",
       "      6         527685\n",
       "      7         405082\n",
       "      8         358892\n",
       "      9         203064\n",
       "      10        232276\n",
       "      11        422208\n",
       "      12        431484\n",
       "2023  1         586402\n",
       "      2         664948\n",
       "      3         817979\n",
       "      4         813608\n",
       "      5         945162\n",
       "      6        1009992\n",
       "      7         999706\n",
       "      8        1109194\n",
       "      9        1189627\n",
       "      10       1401777\n",
       "      11       1410644\n",
       "      12       1228319\n",
       "2024  1        1558095\n",
       "      2        1699393\n",
       "      3        1829741\n",
       "      4        1961618\n",
       "      5        2053545\n",
       "      6        1893513\n",
       "      7        1825635\n",
       "      8        1891298\n",
       "      9        1852147\n",
       "      10       2054419\n",
       "      11       1942324\n",
       "      12       1680479\n",
       "Name: count, dtype: int64"
      ]
     },
     "execution_count": 9,
     "metadata": {},
     "output_type": "execute_result"
    }
   ],
   "source": [
    "df[['year','month']].value_counts().sort_index()"
   ]
  },
  {
   "cell_type": "code",
   "execution_count": 10,
   "id": "f8d9da46",
   "metadata": {},
   "outputs": [
    {
     "data": {
      "text/plain": [
       "Ciclo_Estacion_Retiro\n",
       "2    9249\n",
       "Name: count, dtype: int64"
      ]
     },
     "execution_count": 10,
     "metadata": {},
     "output_type": "execute_result"
    }
   ],
   "source": [
    "df[(df.year==2022) & (df.month<9)]['Ciclo_Estacion_Retiro'].value_counts().loc[[\"2\"]].head(20)"
   ]
  },
  {
   "cell_type": "code",
   "execution_count": 12,
   "id": "fd714492",
   "metadata": {},
   "outputs": [
    {
     "data": {
      "text/plain": [
       "Ciclo_Estacion_Retiro\n",
       "002    76436\n",
       "Name: count, dtype: int64"
      ]
     },
     "execution_count": 12,
     "metadata": {},
     "output_type": "execute_result"
    }
   ],
   "source": [
    "df[df.year>=2023]['Ciclo_Estacion_Retiro'].value_counts().loc[[\"002\"]].head(20)"
   ]
  },
  {
   "cell_type": "code",
   "execution_count": 13,
   "id": "e56bd583",
   "metadata": {},
   "outputs": [
    {
     "data": {
      "text/plain": [
       "year  month\n",
       "2022  1        1066\n",
       "      2        1146\n",
       "      3        1302\n",
       "      4        1242\n",
       "      5        1433\n",
       "      6         930\n",
       "      7        1103\n",
       "      8        1027\n",
       "      9         489\n",
       "      10        389\n",
       "      11       2020\n",
       "      12       1834\n",
       "2023  1        2381\n",
       "      2        2412\n",
       "      3        2591\n",
       "      4        2515\n",
       "      5        2930\n",
       "      6        2483\n",
       "      7        2497\n",
       "      8        2925\n",
       "      9        2685\n",
       "      10       3172\n",
       "      11       3380\n",
       "      12       2605\n",
       "2024  1        3594\n",
       "      2        3714\n",
       "      3        3642\n",
       "      4        4022\n",
       "      5        4141\n",
       "      6        3872\n",
       "      7        3895\n",
       "      8        3653\n",
       "      9        3479\n",
       "      10       3543\n",
       "      11       3397\n",
       "      12       2908\n",
       "dtype: int64"
      ]
     },
     "execution_count": 13,
     "metadata": {},
     "output_type": "execute_result"
    }
   ],
   "source": [
    "df[df['Ciclo_Estacion_Retiro'].isin([\"2\",\"002\"])].groupby(['year','month']).size().sort_index()"
   ]
  },
  {
   "cell_type": "code",
   "execution_count": 38,
   "id": "8b493019",
   "metadata": {},
   "outputs": [
    {
     "data": {
      "text/plain": [
       "Ciclo_Estacion_Retiro\n",
       "3002    1\n",
       "Name: count, dtype: int64"
      ]
     },
     "execution_count": 38,
     "metadata": {},
     "output_type": "execute_result"
    }
   ],
   "source": [
    "df[(df.year==2022) & (df.month<8)]['Ciclo_Estacion_Retiro'].value_counts().loc[lambda x: x.index.str.len()==4]"
   ]
  },
  {
   "cell_type": "code",
   "execution_count": 30,
   "id": "25b3b642",
   "metadata": {},
   "outputs": [
    {
     "data": {
      "text/plain": [
       "Ciclo_Estacion_Retiro\n",
       "1000    8\n",
       "1002    1\n",
       "Name: count, dtype: int64"
      ]
     },
     "execution_count": 30,
     "metadata": {},
     "output_type": "execute_result"
    }
   ],
   "source": [
    "df[df.year==2024]['Ciclo_Estacion_Retiro'].value_counts().loc[lambda x: x.index.str.len()==4]"
   ]
  },
  {
   "cell_type": "code",
   "execution_count": 23,
   "id": "45d2258c",
   "metadata": {},
   "outputs": [
    {
     "data": {
      "text/plain": [
       "Ciclo_Estacion_Arribo\n",
       "2      366\n",
       "1      319\n",
       "16     312\n",
       "35     294\n",
       "34     293\n",
       "32     292\n",
       "9      258\n",
       "24     251\n",
       "103    199\n",
       "27     177\n",
       "Name: count, dtype: int64"
      ]
     },
     "execution_count": 23,
     "metadata": {},
     "output_type": "execute_result"
    }
   ],
   "source": [
    "df[df['Ciclo_Estacion_Retiro']==\"2\"]['Ciclo_Estacion_Arribo'].value_counts().head(10)"
   ]
  },
  {
   "cell_type": "code",
   "execution_count": 24,
   "id": "f59c0cde",
   "metadata": {},
   "outputs": [
    {
     "data": {
      "text/plain": [
       "Ciclo_Estacion_Arribo\n",
       "002        2629\n",
       "001        2264\n",
       "271-272    2181\n",
       "016        1806\n",
       "027        1659\n",
       "032        1428\n",
       "014        1344\n",
       "056        1175\n",
       "007        1096\n",
       "019        1006\n",
       "Name: count, dtype: int64"
      ]
     },
     "execution_count": 24,
     "metadata": {},
     "output_type": "execute_result"
    }
   ],
   "source": [
    "df[df['Ciclo_Estacion_Retiro']==\"002\"]['Ciclo_Estacion_Arribo'].value_counts().head(10)"
   ]
  },
  {
   "cell_type": "code",
   "execution_count": 16,
   "id": "81ebe9fa",
   "metadata": {},
   "outputs": [
    {
     "data": {
      "text/plain": [
       "year  month\n",
       "2022  10        1434\n",
       "      11        7829\n",
       "      12        9576\n",
       "2023  1        10306\n",
       "      2         8537\n",
       "      3         9231\n",
       "      4         9789\n",
       "      5        13228\n",
       "      6        13968\n",
       "      7        13723\n",
       "      8        13208\n",
       "      9        15884\n",
       "      10       17622\n",
       "      11       17139\n",
       "      12       17132\n",
       "2024  1        18905\n",
       "      2        16639\n",
       "      3        18124\n",
       "      4        19293\n",
       "      5        24203\n",
       "      6        22869\n",
       "      7        22951\n",
       "      8        22421\n",
       "      9        22284\n",
       "      10       24460\n",
       "      11       20731\n",
       "      12       12317\n",
       "dtype: int64"
      ]
     },
     "execution_count": 16,
     "metadata": {},
     "output_type": "execute_result"
    }
   ],
   "source": [
    "df[df['Ciclo_Estacion_Retiro']==\"271-272\"].groupby(['year','month']).size().sort_index()"
   ]
  },
  {
   "cell_type": "code",
   "execution_count": 5,
   "id": "68ed872b",
   "metadata": {},
   "outputs": [],
   "source": [
    "data_path = \"data/partitioned_historical_data\""
   ]
  },
  {
   "cell_type": "code",
   "execution_count": 7,
   "id": "5d92783d",
   "metadata": {},
   "outputs": [
    {
     "name": "stdout",
     "output_type": "stream",
     "text": [
      "✅ Uploaded data/partitioned_historical_data\\year=2019\\month=1\\786eac27676e413bb2fa0bbe0b2e6579-0.parquet to gs://bernacho-ecobici-datahub/ecobici_partitioned_data/year=2019/month=1/786eac27676e413bb2fa0bbe0b2e6579-0.parquet\n",
      "✅ Uploaded data/partitioned_historical_data\\year=2019\\month=10\\b992a1416dde40468076a636d0a80afd-0.parquet to gs://bernacho-ecobici-datahub/ecobici_partitioned_data/year=2019/month=10/b992a1416dde40468076a636d0a80afd-0.parquet\n",
      "✅ Uploaded data/partitioned_historical_data\\year=2019\\month=11\\9ea28ccbdfd74f409e90254c51d1b2aa-0.parquet to gs://bernacho-ecobici-datahub/ecobici_partitioned_data/year=2019/month=11/9ea28ccbdfd74f409e90254c51d1b2aa-0.parquet\n",
      "✅ Uploaded data/partitioned_historical_data\\year=2019\\month=12\\775d14e8e5a74e0791c905939c748aa5-0.parquet to gs://bernacho-ecobici-datahub/ecobici_partitioned_data/year=2019/month=12/775d14e8e5a74e0791c905939c748aa5-0.parquet\n",
      "✅ Uploaded data/partitioned_historical_data\\year=2019\\month=2\\76edf059dc134ad581276ca077913aba-0.parquet to gs://bernacho-ecobici-datahub/ecobici_partitioned_data/year=2019/month=2/76edf059dc134ad581276ca077913aba-0.parquet\n",
      "✅ Uploaded data/partitioned_historical_data\\year=2019\\month=3\\ba441914cdb148eeb2bf04d9783d4d76-0.parquet to gs://bernacho-ecobici-datahub/ecobici_partitioned_data/year=2019/month=3/ba441914cdb148eeb2bf04d9783d4d76-0.parquet\n",
      "✅ Uploaded data/partitioned_historical_data\\year=2019\\month=4\\592e3283fbfe4e4db119c1a8fe54f0f2-0.parquet to gs://bernacho-ecobici-datahub/ecobici_partitioned_data/year=2019/month=4/592e3283fbfe4e4db119c1a8fe54f0f2-0.parquet\n",
      "✅ Uploaded data/partitioned_historical_data\\year=2019\\month=5\\cf2c471e1b80439dbcc4b9e865c39ff8-0.parquet to gs://bernacho-ecobici-datahub/ecobici_partitioned_data/year=2019/month=5/cf2c471e1b80439dbcc4b9e865c39ff8-0.parquet\n",
      "✅ Uploaded data/partitioned_historical_data\\year=2019\\month=6\\55b6da9fbe60444ba605edc886e0b718-0.parquet to gs://bernacho-ecobici-datahub/ecobici_partitioned_data/year=2019/month=6/55b6da9fbe60444ba605edc886e0b718-0.parquet\n",
      "✅ Uploaded data/partitioned_historical_data\\year=2019\\month=7\\93bd86ca778e445aab39fd98e1dd7085-0.parquet to gs://bernacho-ecobici-datahub/ecobici_partitioned_data/year=2019/month=7/93bd86ca778e445aab39fd98e1dd7085-0.parquet\n",
      "✅ Uploaded data/partitioned_historical_data\\year=2019\\month=8\\ddfd087151b14ef4ac269663adb9726d-0.parquet to gs://bernacho-ecobici-datahub/ecobici_partitioned_data/year=2019/month=8/ddfd087151b14ef4ac269663adb9726d-0.parquet\n",
      "✅ Uploaded data/partitioned_historical_data\\year=2019\\month=9\\0a93725e5e3144a6957c8878a56a146c-0.parquet to gs://bernacho-ecobici-datahub/ecobici_partitioned_data/year=2019/month=9/0a93725e5e3144a6957c8878a56a146c-0.parquet\n",
      "✅ Uploaded data/partitioned_historical_data\\year=2020\\month=1\\84d6973efabb4e3eb510dbfab069e03e-0.parquet to gs://bernacho-ecobici-datahub/ecobici_partitioned_data/year=2020/month=1/84d6973efabb4e3eb510dbfab069e03e-0.parquet\n",
      "✅ Uploaded data/partitioned_historical_data\\year=2020\\month=10\\76ce8353af854ae18a372075f1c18f1a-0.parquet to gs://bernacho-ecobici-datahub/ecobici_partitioned_data/year=2020/month=10/76ce8353af854ae18a372075f1c18f1a-0.parquet\n",
      "✅ Uploaded data/partitioned_historical_data\\year=2020\\month=11\\02d491724e72496988f44422036f0b67-0.parquet to gs://bernacho-ecobici-datahub/ecobici_partitioned_data/year=2020/month=11/02d491724e72496988f44422036f0b67-0.parquet\n",
      "✅ Uploaded data/partitioned_historical_data\\year=2020\\month=12\\7c91014e898347819ebc4524d6f298b4-0.parquet to gs://bernacho-ecobici-datahub/ecobici_partitioned_data/year=2020/month=12/7c91014e898347819ebc4524d6f298b4-0.parquet\n",
      "✅ Uploaded data/partitioned_historical_data\\year=2020\\month=2\\d0cb8a0d38e3410a9fca13e43039704e-0.parquet to gs://bernacho-ecobici-datahub/ecobici_partitioned_data/year=2020/month=2/d0cb8a0d38e3410a9fca13e43039704e-0.parquet\n",
      "✅ Uploaded data/partitioned_historical_data\\year=2020\\month=3\\93a32652cac44b36aefa480d4194916f-0.parquet to gs://bernacho-ecobici-datahub/ecobici_partitioned_data/year=2020/month=3/93a32652cac44b36aefa480d4194916f-0.parquet\n",
      "✅ Uploaded data/partitioned_historical_data\\year=2020\\month=4\\9fd0ca9d5e5b4c92afe9d934a68bc7cc-0.parquet to gs://bernacho-ecobici-datahub/ecobici_partitioned_data/year=2020/month=4/9fd0ca9d5e5b4c92afe9d934a68bc7cc-0.parquet\n",
      "✅ Uploaded data/partitioned_historical_data\\year=2020\\month=5\\2f7a770198b44e0fa4d2425537cc2886-0.parquet to gs://bernacho-ecobici-datahub/ecobici_partitioned_data/year=2020/month=5/2f7a770198b44e0fa4d2425537cc2886-0.parquet\n",
      "✅ Uploaded data/partitioned_historical_data\\year=2020\\month=6\\838799efe9ab4a93bf0896a88ed4df4b-0.parquet to gs://bernacho-ecobici-datahub/ecobici_partitioned_data/year=2020/month=6/838799efe9ab4a93bf0896a88ed4df4b-0.parquet\n",
      "✅ Uploaded data/partitioned_historical_data\\year=2020\\month=7\\88c49c35858f4a03aeb3763571457620-0.parquet to gs://bernacho-ecobici-datahub/ecobici_partitioned_data/year=2020/month=7/88c49c35858f4a03aeb3763571457620-0.parquet\n",
      "✅ Uploaded data/partitioned_historical_data\\year=2020\\month=8\\c8ba3f000c4144119e7a6560a60d0b02-0.parquet to gs://bernacho-ecobici-datahub/ecobici_partitioned_data/year=2020/month=8/c8ba3f000c4144119e7a6560a60d0b02-0.parquet\n",
      "✅ Uploaded data/partitioned_historical_data\\year=2020\\month=9\\1962a851c3b44e09bd78d24ae5039c2f-0.parquet to gs://bernacho-ecobici-datahub/ecobici_partitioned_data/year=2020/month=9/1962a851c3b44e09bd78d24ae5039c2f-0.parquet\n",
      "✅ Uploaded data/partitioned_historical_data\\year=2021\\month=1\\bd5229911f264e6aa703d0d54b644334-0.parquet to gs://bernacho-ecobici-datahub/ecobici_partitioned_data/year=2021/month=1/bd5229911f264e6aa703d0d54b644334-0.parquet\n",
      "✅ Uploaded data/partitioned_historical_data\\year=2021\\month=10\\d2308d835d11418292b8db8871b78d7d-0.parquet to gs://bernacho-ecobici-datahub/ecobici_partitioned_data/year=2021/month=10/d2308d835d11418292b8db8871b78d7d-0.parquet\n",
      "✅ Uploaded data/partitioned_historical_data\\year=2021\\month=11\\0dcd4134ee65492b91dbf572abc9a37a-0.parquet to gs://bernacho-ecobici-datahub/ecobici_partitioned_data/year=2021/month=11/0dcd4134ee65492b91dbf572abc9a37a-0.parquet\n",
      "✅ Uploaded data/partitioned_historical_data\\year=2021\\month=12\\0e976d5283424567920a09e48b983055-0.parquet to gs://bernacho-ecobici-datahub/ecobici_partitioned_data/year=2021/month=12/0e976d5283424567920a09e48b983055-0.parquet\n",
      "✅ Uploaded data/partitioned_historical_data\\year=2021\\month=2\\bb17e0473a174b61a9a4316ffa5e0c86-0.parquet to gs://bernacho-ecobici-datahub/ecobici_partitioned_data/year=2021/month=2/bb17e0473a174b61a9a4316ffa5e0c86-0.parquet\n",
      "✅ Uploaded data/partitioned_historical_data\\year=2021\\month=3\\f1981228ba7b47d2918f2045d2e21390-0.parquet to gs://bernacho-ecobici-datahub/ecobici_partitioned_data/year=2021/month=3/f1981228ba7b47d2918f2045d2e21390-0.parquet\n",
      "✅ Uploaded data/partitioned_historical_data\\year=2021\\month=4\\7dbab6722c814fa1b54d9b9e293e6953-0.parquet to gs://bernacho-ecobici-datahub/ecobici_partitioned_data/year=2021/month=4/7dbab6722c814fa1b54d9b9e293e6953-0.parquet\n",
      "✅ Uploaded data/partitioned_historical_data\\year=2021\\month=5\\5ab83fc306b04a8ab376d9177d70824e-0.parquet to gs://bernacho-ecobici-datahub/ecobici_partitioned_data/year=2021/month=5/5ab83fc306b04a8ab376d9177d70824e-0.parquet\n",
      "✅ Uploaded data/partitioned_historical_data\\year=2021\\month=6\\1360d408905d4e2d847331a6adf4579d-0.parquet to gs://bernacho-ecobici-datahub/ecobici_partitioned_data/year=2021/month=6/1360d408905d4e2d847331a6adf4579d-0.parquet\n",
      "✅ Uploaded data/partitioned_historical_data\\year=2021\\month=7\\65fe3e9b58c84a589643ee30ad4cc15f-0.parquet to gs://bernacho-ecobici-datahub/ecobici_partitioned_data/year=2021/month=7/65fe3e9b58c84a589643ee30ad4cc15f-0.parquet\n",
      "✅ Uploaded data/partitioned_historical_data\\year=2021\\month=8\\6b718ca3079d445eb5e955cfd88123a9-0.parquet to gs://bernacho-ecobici-datahub/ecobici_partitioned_data/year=2021/month=8/6b718ca3079d445eb5e955cfd88123a9-0.parquet\n",
      "✅ Uploaded data/partitioned_historical_data\\year=2021\\month=9\\69234c88855d44c8b6c24cde786f230e-0.parquet to gs://bernacho-ecobici-datahub/ecobici_partitioned_data/year=2021/month=9/69234c88855d44c8b6c24cde786f230e-0.parquet\n",
      "✅ Uploaded data/partitioned_historical_data\\year=2022\\month=1\\840e7d9a0ff945098668a3140dee6c65-0.parquet to gs://bernacho-ecobici-datahub/ecobici_partitioned_data/year=2022/month=1/840e7d9a0ff945098668a3140dee6c65-0.parquet\n",
      "✅ Uploaded data/partitioned_historical_data\\year=2022\\month=10\\541745f261a04210829fb62cc603e1fc-0.parquet to gs://bernacho-ecobici-datahub/ecobici_partitioned_data/year=2022/month=10/541745f261a04210829fb62cc603e1fc-0.parquet\n",
      "✅ Uploaded data/partitioned_historical_data\\year=2022\\month=11\\d8838eb1aa4a47988340e4d85b792888-0.parquet to gs://bernacho-ecobici-datahub/ecobici_partitioned_data/year=2022/month=11/d8838eb1aa4a47988340e4d85b792888-0.parquet\n",
      "✅ Uploaded data/partitioned_historical_data\\year=2022\\month=12\\d04c5501ff76445e9a639ba86668903a-0.parquet to gs://bernacho-ecobici-datahub/ecobici_partitioned_data/year=2022/month=12/d04c5501ff76445e9a639ba86668903a-0.parquet\n",
      "✅ Uploaded data/partitioned_historical_data\\year=2022\\month=2\\ed085bee43f54c1590459d434ec1c607-0.parquet to gs://bernacho-ecobici-datahub/ecobici_partitioned_data/year=2022/month=2/ed085bee43f54c1590459d434ec1c607-0.parquet\n",
      "✅ Uploaded data/partitioned_historical_data\\year=2022\\month=3\\fbeff3fec07148c99fea94aaaec302d0-0.parquet to gs://bernacho-ecobici-datahub/ecobici_partitioned_data/year=2022/month=3/fbeff3fec07148c99fea94aaaec302d0-0.parquet\n",
      "✅ Uploaded data/partitioned_historical_data\\year=2022\\month=4\\0b9c3d51cd1648bd9fb8876705d6ee1b-0.parquet to gs://bernacho-ecobici-datahub/ecobici_partitioned_data/year=2022/month=4/0b9c3d51cd1648bd9fb8876705d6ee1b-0.parquet\n",
      "✅ Uploaded data/partitioned_historical_data\\year=2022\\month=5\\e7f6c707f7ab4470b37a8573bbc13c76-0.parquet to gs://bernacho-ecobici-datahub/ecobici_partitioned_data/year=2022/month=5/e7f6c707f7ab4470b37a8573bbc13c76-0.parquet\n",
      "✅ Uploaded data/partitioned_historical_data\\year=2022\\month=6\\6fced113b3a4404f8c88ab8de8caec93-0.parquet to gs://bernacho-ecobici-datahub/ecobici_partitioned_data/year=2022/month=6/6fced113b3a4404f8c88ab8de8caec93-0.parquet\n",
      "✅ Uploaded data/partitioned_historical_data\\year=2022\\month=7\\e54b2d2862e944ac8e63cbc575e51bc6-0.parquet to gs://bernacho-ecobici-datahub/ecobici_partitioned_data/year=2022/month=7/e54b2d2862e944ac8e63cbc575e51bc6-0.parquet\n",
      "✅ Uploaded data/partitioned_historical_data\\year=2022\\month=8\\105f9761afd74a5ab4c85411664472ec-0.parquet to gs://bernacho-ecobici-datahub/ecobici_partitioned_data/year=2022/month=8/105f9761afd74a5ab4c85411664472ec-0.parquet\n",
      "✅ Uploaded data/partitioned_historical_data\\year=2022\\month=9\\ca0130fec7184c79b97adcef50d3c4bb-0.parquet to gs://bernacho-ecobici-datahub/ecobici_partitioned_data/year=2022/month=9/ca0130fec7184c79b97adcef50d3c4bb-0.parquet\n",
      "✅ Uploaded data/partitioned_historical_data\\year=2023\\month=1\\e64ac7af25eb4fee82f913d5072918d1-0.parquet to gs://bernacho-ecobici-datahub/ecobici_partitioned_data/year=2023/month=1/e64ac7af25eb4fee82f913d5072918d1-0.parquet\n",
      "✅ Uploaded data/partitioned_historical_data\\year=2023\\month=10\\a56e1240312c48bea9c509519d436f20-0.parquet to gs://bernacho-ecobici-datahub/ecobici_partitioned_data/year=2023/month=10/a56e1240312c48bea9c509519d436f20-0.parquet\n",
      "✅ Uploaded data/partitioned_historical_data\\year=2023\\month=11\\bccc7435cc93445f8dc07e78b8623369-0.parquet to gs://bernacho-ecobici-datahub/ecobici_partitioned_data/year=2023/month=11/bccc7435cc93445f8dc07e78b8623369-0.parquet\n",
      "✅ Uploaded data/partitioned_historical_data\\year=2023\\month=12\\1911424dfe7645ad8609ee71e5c282c4-0.parquet to gs://bernacho-ecobici-datahub/ecobici_partitioned_data/year=2023/month=12/1911424dfe7645ad8609ee71e5c282c4-0.parquet\n",
      "✅ Uploaded data/partitioned_historical_data\\year=2023\\month=2\\a0b0f55641934996a39320117a256c1e-0.parquet to gs://bernacho-ecobici-datahub/ecobici_partitioned_data/year=2023/month=2/a0b0f55641934996a39320117a256c1e-0.parquet\n",
      "✅ Uploaded data/partitioned_historical_data\\year=2023\\month=3\\49935f3bf1014d02b2d9d530a1cdeaef-0.parquet to gs://bernacho-ecobici-datahub/ecobici_partitioned_data/year=2023/month=3/49935f3bf1014d02b2d9d530a1cdeaef-0.parquet\n",
      "✅ Uploaded data/partitioned_historical_data\\year=2023\\month=4\\b316d5e9713f4510b831b1055535f8f3-0.parquet to gs://bernacho-ecobici-datahub/ecobici_partitioned_data/year=2023/month=4/b316d5e9713f4510b831b1055535f8f3-0.parquet\n",
      "✅ Uploaded data/partitioned_historical_data\\year=2023\\month=5\\f29a91a06ff2489688f687f63b9e7141-0.parquet to gs://bernacho-ecobici-datahub/ecobici_partitioned_data/year=2023/month=5/f29a91a06ff2489688f687f63b9e7141-0.parquet\n",
      "✅ Uploaded data/partitioned_historical_data\\year=2023\\month=6\\20531e434df9448b8eccff90c1416add-0.parquet to gs://bernacho-ecobici-datahub/ecobici_partitioned_data/year=2023/month=6/20531e434df9448b8eccff90c1416add-0.parquet\n",
      "✅ Uploaded data/partitioned_historical_data\\year=2023\\month=7\\347966e4cd92428daaf5c40842f33d0b-0.parquet to gs://bernacho-ecobici-datahub/ecobici_partitioned_data/year=2023/month=7/347966e4cd92428daaf5c40842f33d0b-0.parquet\n",
      "✅ Uploaded data/partitioned_historical_data\\year=2023\\month=8\\03824c1b769b4cbbafe4151e5474f493-0.parquet to gs://bernacho-ecobici-datahub/ecobici_partitioned_data/year=2023/month=8/03824c1b769b4cbbafe4151e5474f493-0.parquet\n",
      "✅ Uploaded data/partitioned_historical_data\\year=2023\\month=9\\287e8d320e8d4d568cc472e7b2bb1d73-0.parquet to gs://bernacho-ecobici-datahub/ecobici_partitioned_data/year=2023/month=9/287e8d320e8d4d568cc472e7b2bb1d73-0.parquet\n",
      "✅ Uploaded data/partitioned_historical_data\\year=2024\\month=1\\04c9b26588ae4aae868ef4e92024e274-0.parquet to gs://bernacho-ecobici-datahub/ecobici_partitioned_data/year=2024/month=1/04c9b26588ae4aae868ef4e92024e274-0.parquet\n",
      "✅ Uploaded data/partitioned_historical_data\\year=2024\\month=10\\e1f27807745e449f80bae27f6cad2455-0.parquet to gs://bernacho-ecobici-datahub/ecobici_partitioned_data/year=2024/month=10/e1f27807745e449f80bae27f6cad2455-0.parquet\n",
      "✅ Uploaded data/partitioned_historical_data\\year=2024\\month=11\\d970d48cb9944316af3d5d76e342447c-0.parquet to gs://bernacho-ecobici-datahub/ecobici_partitioned_data/year=2024/month=11/d970d48cb9944316af3d5d76e342447c-0.parquet\n",
      "✅ Uploaded data/partitioned_historical_data\\year=2024\\month=12\\8c15beccad47445eaf9432f2ef192b3d-0.parquet to gs://bernacho-ecobici-datahub/ecobici_partitioned_data/year=2024/month=12/8c15beccad47445eaf9432f2ef192b3d-0.parquet\n",
      "✅ Uploaded data/partitioned_historical_data\\year=2024\\month=2\\fdb8e53b588743dca73e3286fc203463-0.parquet to gs://bernacho-ecobici-datahub/ecobici_partitioned_data/year=2024/month=2/fdb8e53b588743dca73e3286fc203463-0.parquet\n",
      "✅ Uploaded data/partitioned_historical_data\\year=2024\\month=3\\7293d4293ad74a60945dc32941a4c82f-0.parquet to gs://bernacho-ecobici-datahub/ecobici_partitioned_data/year=2024/month=3/7293d4293ad74a60945dc32941a4c82f-0.parquet\n",
      "✅ Uploaded data/partitioned_historical_data\\year=2024\\month=4\\e1b4c457314f47458a04740e56a49d4d-0.parquet to gs://bernacho-ecobici-datahub/ecobici_partitioned_data/year=2024/month=4/e1b4c457314f47458a04740e56a49d4d-0.parquet\n",
      "✅ Uploaded data/partitioned_historical_data\\year=2024\\month=5\\20d6549a1a154b0c96517e6091697a8e-0.parquet to gs://bernacho-ecobici-datahub/ecobici_partitioned_data/year=2024/month=5/20d6549a1a154b0c96517e6091697a8e-0.parquet\n",
      "✅ Uploaded data/partitioned_historical_data\\year=2024\\month=6\\faf828f5d3984318b5f84e57b16ae027-0.parquet to gs://bernacho-ecobici-datahub/ecobici_partitioned_data/year=2024/month=6/faf828f5d3984318b5f84e57b16ae027-0.parquet\n",
      "✅ Uploaded data/partitioned_historical_data\\year=2024\\month=7\\94c2f9833f964f39930929e401454ea7-0.parquet to gs://bernacho-ecobici-datahub/ecobici_partitioned_data/year=2024/month=7/94c2f9833f964f39930929e401454ea7-0.parquet\n",
      "✅ Uploaded data/partitioned_historical_data\\year=2024\\month=8\\919934484d25483395af819fd970ca0a-0.parquet to gs://bernacho-ecobici-datahub/ecobici_partitioned_data/year=2024/month=8/919934484d25483395af819fd970ca0a-0.parquet\n",
      "✅ Uploaded data/partitioned_historical_data\\year=2024\\month=9\\98fe19a6029e4cef9697f2a3e3d6838d-0.parquet to gs://bernacho-ecobici-datahub/ecobici_partitioned_data/year=2024/month=9/98fe19a6029e4cef9697f2a3e3d6838d-0.parquet\n",
      "✅ Uploaded data/partitioned_historical_data\\year=2025\\month=1\\04498e4d12f841d288584c95a71dadc3-0.parquet to gs://bernacho-ecobici-datahub/ecobici_partitioned_data/year=2025/month=1/04498e4d12f841d288584c95a71dadc3-0.parquet\n",
      "✅ Uploaded data/partitioned_historical_data\\year=2025\\month=2\\2c53a463e30947fca7bfb484260e106d-0.parquet to gs://bernacho-ecobici-datahub/ecobici_partitioned_data/year=2025/month=2/2c53a463e30947fca7bfb484260e106d-0.parquet\n",
      "✅ Uploaded data/partitioned_historical_data\\year=2025\\month=3\\724d8b0549d54b45887a02c350dc07e8-0.parquet to gs://bernacho-ecobici-datahub/ecobici_partitioned_data/year=2025/month=3/724d8b0549d54b45887a02c350dc07e8-0.parquet\n",
      "✅ Uploaded data/partitioned_historical_data\\year=2025\\month=4\\5245174b790b4b8a854894ef616519a5-0.parquet to gs://bernacho-ecobici-datahub/ecobici_partitioned_data/year=2025/month=4/5245174b790b4b8a854894ef616519a5-0.parquet\n",
      "✅ Uploaded data/partitioned_historical_data\\year=2025\\month=5\\1e9692ab74684221b326ae3031ad8359-0.parquet to gs://bernacho-ecobici-datahub/ecobici_partitioned_data/year=2025/month=5/1e9692ab74684221b326ae3031ad8359-0.parquet\n",
      "✅ Uploaded data/partitioned_historical_data\\year=2025\\month=6\\971f236eaec84cbca42bfcd6ac5858a5-0.parquet to gs://bernacho-ecobici-datahub/ecobici_partitioned_data/year=2025/month=6/971f236eaec84cbca42bfcd6ac5858a5-0.parquet\n"
     ]
    }
   ],
   "source": [
    "upload_partitioned_dataset_skip_existing(\n",
    "    local_root=data_path,\n",
    "    bucket_name='bernacho-ecobici-datahub',\n",
    "    gcs_root='partitioned_historical_data'\n",
    ")\n"
   ]
  },
  {
   "cell_type": "code",
   "execution_count": null,
   "id": "dfae0fa7",
   "metadata": {},
   "outputs": [],
   "source": []
  }
 ],
 "metadata": {
  "kernelspec": {
   "display_name": "EcoBici",
   "language": "python",
   "name": "python3"
  },
  "language_info": {
   "codemirror_mode": {
    "name": "ipython",
    "version": 3
   },
   "file_extension": ".py",
   "mimetype": "text/x-python",
   "name": "python",
   "nbconvert_exporter": "python",
   "pygments_lexer": "ipython3",
   "version": "3.13.5"
  }
 },
 "nbformat": 4,
 "nbformat_minor": 5
}
